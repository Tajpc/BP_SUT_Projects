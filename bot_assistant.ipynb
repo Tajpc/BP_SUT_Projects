{
  "nbformat": 4,
  "nbformat_minor": 0,
  "metadata": {
    "colab": {
      "provenance": []
    },
    "kernelspec": {
      "name": "python3",
      "display_name": "Python 3"
    },
    "language_info": {
      "name": "python"
    }
  },
  "cells": [
    {
      "cell_type": "code",
      "execution_count": null,
      "metadata": {
        "id": "_RuSGPYL76Lj"
      },
      "outputs": [],
      "source": [
        "import numpy as np"
      ]
    },
    {
      "cell_type": "code",
      "source": [
        "def reader(file_path):\n",
        "    arr_list = []\n",
        "    with open(file_path, 'r') as file:\n",
        "        n, m = map(int, file.readline().split())\n",
        "        for i in range(m*n):\n",
        "            matrix_row = np.array(list(map(int, file.readline().split())))\n",
        "            arr_list.append(matrix_row)\n",
        "        new_arr = np.array(arr_list)\n",
        "        matrices = new_arr.reshape(n,m,m)\n",
        "    return matrices"
      ],
      "metadata": {
        "id": "PrPpwD-W3qN6"
      },
      "execution_count": 47,
      "outputs": []
    },
    {
      "cell_type": "code",
      "source": [
        "def caldet(matrix):\n",
        "    return np.linalg.det(matrix)\n",
        "\n",
        "def dot_producter(matrix_array):\n",
        "    result_list = []\n",
        "    indices_list = []\n",
        "\n",
        "    for i in range(len(matrix_array)):\n",
        "        for j in range(i + 1, len(matrix_array)):\n",
        "            result_list.append(np.dot(matrix_array[i], matrix_array[j]))\n",
        "            indices_list.append((i, j))\n",
        "\n",
        "    return result_list, indices_list\n",
        "\n",
        "arr = np.array(reader('input10.txt'))\n",
        "matrice_list, indices_list = dot_producter(arr)\n",
        "determinants = [caldet(matrix) for matrix in matrice_list]\n",
        "max_determinant_index = np.argmax(determinants)\n",
        "indices_of_max_determinant = indices_list[max_determinant_index]\n",
        "matrix1_index, matrix2_index = indices_of_max_determinant\n",
        "matrix1 = arr[matrix1_index]\n",
        "matrix2 = arr[matrix2_index]\n",
        "determinant_matrix1 = caldet(matrix1)\n",
        "determinant_matrix2 = caldet(matrix2)\n",
        "\n",
        "if determinant_matrix1 > determinant_matrix2:\n",
        "    result_matrix = np.dot(matrix1, matrix2)\n",
        "else:\n",
        "    result_matrix = np.dot(matrix2, matrix1)\n",
        "\n",
        "inverse_result_matrix = np.linalg.inv(result_matrix)\n",
        "rounded = np.round(inverse_result_matrix, 3)\n",
        "\n",
        "for r in rounded:\n",
        "    print(\" \".join(map(str, r)))\n"
      ],
      "metadata": {
        "colab": {
          "base_uri": "https://localhost:8080/"
        },
        "id": "x77S36i-ulKn",
        "outputId": "31e8c772-61a8-4262-bffe-32c003eb0de1"
      },
      "execution_count": 53,
      "outputs": [
        {
          "output_type": "stream",
          "name": "stdout",
          "text": [
            "0.01 -0.019\n",
            "0.002 0.015\n"
          ]
        }
      ]
    }
  ]
}